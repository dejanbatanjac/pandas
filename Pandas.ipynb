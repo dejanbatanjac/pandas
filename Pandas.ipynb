{
 "cells": [
  {
   "cell_type": "code",
   "execution_count": 2,
   "metadata": {},
   "outputs": [
    {
     "name": "stdout",
     "output_type": "stream",
     "text": [
      "5572.500801706894\n",
      "6306.2650380290725\n",
      "[[{'city': 'Pau', 'lan': 43.293295, 'lng': -0.36357}, {'city': 'Marseille', 'lan': 43.293551, 'lng': 5.377397}, {Ellipsis}, {'distance': 5572.500801706894}], [{'city': 'Nice', 'lan': 43.70168, 'lng': 7.260711}, {'city': 'Lyon', 'lan': 45.759132, 'lng': 4.834604}, {Ellipsis}, {'distance': 6306.2650380290725}]]\n"
     ]
    }
   ],
   "source": [
    "items= [[{'city': 'Pau', 'lan': 43.293295, 'lng': -0.36357}, {'city': 'Marseille', 'lan': 43.293551, 'lng': 5.377397}, {...}, {'distance': 5572.500801706894}], \n",
    "        [{'city': 'Nice', 'lan': 43.70168, 'lng': 7.260711}, {'city': 'Lyon', 'lan': 45.759132, 'lng': 4.834604}, {...}, {'distance': 6306.2650380290725}]         ]\n",
    "\n",
    "for i in items:\n",
    "    print(i[-1]['distance'])\n",
    "    \n",
    "sl = sorted(items, key=lambda k: k[-1]['distance'])\n",
    "print(sl)\n",
    "\n",
    "\n",
    "    "
   ]
  },
  {
   "cell_type": "code",
   "execution_count": 9,
   "metadata": {},
   "outputs": [
    {
     "name": "stdout",
     "output_type": "stream",
     "text": [
      "   a  b  c\n",
      "1  1  1  1\n",
      "2  1  1  1\n",
      "3  1  1  1\n",
      "4  1  1  1\n",
      "     a    b    c\n",
      "1  0.0  0.0  0.0\n",
      "2  0.0  0.0  0.0\n",
      "3  0.0  0.0  0.0\n",
      "4  0.0  0.0  0.0\n",
      "     a    b    c\n",
      "1  0.0  0.0  0.0\n",
      "2  0.0  0.0  0.0\n",
      "3  0.0  0.0  0.0\n",
      "4  0.0  0.0  0.0\n",
      "   a  b  c\n",
      "1  1  1  1\n",
      "2  1  1  1\n",
      "3  1  1  1\n",
      "4  1  1  1\n",
      "     a    b    c\n",
      "1  0.0  0.0  0.0\n",
      "2  0.0  0.0  0.0\n",
      "3  0.0  0.0  0.0\n",
      "4  0.0  0.0  0.0\n",
      "1    3\n",
      "2    3\n",
      "3    3\n",
      "4    3\n",
      "dtype: int64\n",
      "     a    b    c\n",
      "1  0.0  0.0  0.0\n",
      "2  0.0  0.0  0.0\n",
      "3  0.0  0.0  0.0\n",
      "4  0.0  0.0  0.0\n",
      "   0  1  2\n",
      "1  1  2  3\n",
      "2  1  2  3\n",
      "3  1  2  3\n",
      "4  1  2  3\n"
     ]
    }
   ],
   "source": [
    "import numpy as np\n",
    "import pandas as pd\n",
    "from pandas import DataFrame\n",
    "\n",
    "df = DataFrame(1, columns=list('abc'),\n",
    "                  index=list('1234'))\n",
    "print(df)\n",
    "\n",
    "f = lambda x: np.log(x)\n",
    "print(df.applymap(f)) # apply to the whole dataframe\n",
    "print(np.log(df)) # applied to the whole dataframe\n",
    "print(df.applymap(np.sum)) # reducing can be applied for rows only\n",
    "\n",
    "# apply can take different options (vs. applymap cannot)\n",
    "print(df.apply(f)) # same as applymap\n",
    "print(df.apply(sum, axis=1))  # reducing example\n",
    "print(df.apply(np.log, axis=1)) # cannot reduce\n",
    "print(df.apply(lambda x: [1, 2, 3], axis=1, result_type='expand')) # expand result\n",
    "\n",
    "\n"
   ]
  },
  {
   "cell_type": "code",
   "execution_count": null,
   "metadata": {},
   "outputs": [],
   "source": []
  },
  {
   "cell_type": "code",
   "execution_count": null,
   "metadata": {},
   "outputs": [],
   "source": []
  },
  {
   "cell_type": "code",
   "execution_count": 11,
   "metadata": {},
   "outputs": [
    {
     "name": "stdout",
     "output_type": "stream",
     "text": [
      "[[1, 2], [2, 3]]\n"
     ]
    }
   ],
   "source": [
    "items = [[1, 2], [2, 3], [2, 1], [1, 2]]\n",
    "\n",
    "u = [list(x) for x in set(tuple(x) for x in list( sorted(c) for c in items))]\n",
    "\n",
    "print(u)"
   ]
  },
  {
   "cell_type": "code",
   "execution_count": 12,
   "metadata": {},
   "outputs": [
    {
     "name": "stdout",
     "output_type": "stream",
     "text": [
      "[[1, 2], [2, 3]]\n"
     ]
    }
   ],
   "source": [
    "items = [[1, 2], [2, 3], [2, 1], [1, 2]]\n",
    "result = list( {tuple(sorted(c)) for c in items} )\n",
    "r=[list(i) for i in result]\n",
    "print(r) "
   ]
  },
  {
   "cell_type": "code",
   "execution_count": 13,
   "metadata": {},
   "outputs": [
    {
     "name": "stdout",
     "output_type": "stream",
     "text": [
      "[[1, 2], [2, 3]]\n"
     ]
    }
   ],
   "source": [
    "items = [[1, 2], [2, 3], [2, 1], [1, 2]]\n",
    "r=[list(i) for i in list({tuple(sorted(c)) for c in items})]\n",
    "print(r) # [[1, 2], [2, 3]]"
   ]
  },
  {
   "cell_type": "code",
   "execution_count": 485,
   "metadata": {},
   "outputs": [
    {
     "name": "stdout",
     "output_type": "stream",
     "text": [
      "[[1, 2], [2, 3], [1, 2], [1, 2]]\n"
     ]
    }
   ],
   "source": [
    "items = [[1, 2], [2, 3], [2, 1], [1, 2]]\n",
    "r = list( sorted(c) for c in items)\n",
    "print(r) "
   ]
  },
  {
   "cell_type": "code",
   "execution_count": null,
   "metadata": {},
   "outputs": [],
   "source": []
  },
  {
   "cell_type": "code",
   "execution_count": 15,
   "metadata": {},
   "outputs": [
    {
     "name": "stdout",
     "output_type": "stream",
     "text": [
      "<class 'pandas.core.frame.DataFrame'>\n",
      "Int64Index: 10 entries, 1 to 11\n",
      "Data columns (total 2 columns):\n",
      "ID       10 non-null int64\n",
      "Month    10 non-null datetime64[ns]\n",
      "dtypes: datetime64[ns](1), int64(1)\n",
      "memory usage: 240.0 bytes\n",
      "None\n",
      "    ID   Month\n",
      "1    1  Dec-17\n",
      "2    1  Feb-18\n",
      "3    1  Nov-17\n",
      "4    1  Oct-17\n",
      "5    1  Sep-17\n",
      "7    2  Dec-17\n",
      "8    2  Feb-18\n",
      "9    2  Nov-17\n",
      "10   2  Oct-17\n",
      "11   2  Mar-18\n"
     ]
    },
    {
     "name": "stderr",
     "output_type": "stream",
     "text": [
      "C:\\Users\\dj\\Anaconda3\\lib\\site-packages\\ipykernel_launcher.py:26: SettingWithCopyWarning: \n",
      "A value is trying to be set on a copy of a slice from a DataFrame.\n",
      "Try using .loc[row_indexer,col_indexer] = value instead\n",
      "\n",
      "See the caveats in the documentation: http://pandas.pydata.org/pandas-docs/stable/indexing.html#indexing-view-versus-copy\n"
     ]
    }
   ],
   "source": [
    "import pandas as pd\n",
    "import io\n",
    "\n",
    "temp=u\"\"\"\n",
    " ID   Month\n",
    "\n",
    "    1    Jan-18\n",
    "    1    Dec-17\n",
    "    1    Feb-18\n",
    "    1    Nov-17\n",
    "    1    Oct-17\n",
    "    1    Sep-17\n",
    "    2    Jan-18\n",
    "    2    Dec-17\n",
    "    2    Feb-18\n",
    "    2    Nov-17\n",
    "    2    Oct-17\n",
    "    2    Mar-18\"\"\"\n",
    "\n",
    "df =pd.read_csv(io.StringIO(temp), sep=r'\\s{1,}', engine='python', encoding = \"iso-8859-1\")\n",
    "import pandas as pd\n",
    "\n",
    "df['Month'] = pd.to_datetime(df['Month'], format='%b-%y')\n",
    "df2=df.groupby('ID').tail()\n",
    "print(df2.info())\n",
    "df2['Month'] = df['Month'].dt.strftime('%b-%y')\n",
    "print(df2)\n",
    "\n"
   ]
  },
  {
   "cell_type": "code",
   "execution_count": 16,
   "metadata": {},
   "outputs": [
    {
     "name": "stdout",
     "output_type": "stream",
     "text": [
      "<class 'pandas.core.frame.DataFrame'>\n",
      "Int64Index: 2 entries, 0 to 1\n",
      "Data columns (total 1 columns):\n",
      "DOB    2 non-null object\n",
      "dtypes: object(1)\n",
      "memory usage: 32.0+ bytes\n",
      "None\n",
      "<class 'pandas.core.frame.DataFrame'>\n",
      "Int64Index: 2 entries, 0 to 1\n",
      "Data columns (total 1 columns):\n",
      "DOB    2 non-null datetime64[ns]\n",
      "dtypes: datetime64[ns](1)\n",
      "memory usage: 32.0 bytes\n",
      "None\n",
      "<class 'pandas.core.frame.DataFrame'>\n",
      "Int64Index: 2 entries, 0 to 1\n",
      "Data columns (total 1 columns):\n",
      "DOB    2 non-null object\n",
      "dtypes: object(1)\n",
      "memory usage: 32.0+ bytes\n",
      "None\n"
     ]
    }
   ],
   "source": [
    "import pandas as pd\n",
    "\n",
    "df = pd.DataFrame({'DOB': {0: '26/1/2016', 1: '26/1/2016'}})\n",
    "print (df.info())\n",
    "         \n",
    "df['DOB'] = pd.to_datetime(df.DOB)\n",
    "print (df.info())\n",
    "         \n",
    "df['DOB'] = df['DOB'].dt.strftime('%m/%d/%Y')\n",
    "print (df.info())\n",
    "\n",
    "         "
   ]
  },
  {
   "cell_type": "code",
   "execution_count": 250,
   "metadata": {},
   "outputs": [
    {
     "name": "stdout",
     "output_type": "stream",
     "text": [
      "   A         B\n",
      "0  0  0.892358\n",
      "1  1 -0.099233\n",
      "2  2  0.909995\n",
      "3  3  0.591662\n",
      "4  4  0.668803\n",
      "    A         B\n",
      "0  10  0.892358\n",
      "1   1 -0.099233\n",
      "2   2  0.909995\n",
      "3   3  0.591662\n",
      "4   4  0.668803\n",
      "     A         B\n",
      "0  100  0.892358\n",
      "1    1 -0.099233\n",
      "2    2  0.909995\n",
      "3    3  0.591662\n",
      "4    4  0.668803\n"
     ]
    },
    {
     "name": "stderr",
     "output_type": "stream",
     "text": [
      "C:\\Users\\dj\\Anaconda3\\lib\\site-packages\\ipykernel_launcher.py:25: SettingWithCopyWarning: \n",
      "A value is trying to be set on a copy of a slice from a DataFrame\n",
      "\n",
      "See the caveats in the documentation: http://pandas.pydata.org/pandas-docs/stable/indexing.html#indexing-view-versus-copy\n"
     ]
    }
   ],
   "source": [
    "df = DataFrame({'A': range(0, 5), 'B': np.random.randn(5)})\n",
    "\n",
    "print(df)\n",
    "\n",
    "# df = df.assign(temp_f=lambda x: x.A * 9 / 5 + 32)\n",
    "\n",
    "# print(id(df))\n",
    "# print(df.index)\n",
    "# print(df.columns)\n",
    "# print(df.count())\n",
    "# print(df.shape)\n",
    "# print(df.sum())\n",
    "# print(df.cumsum())\n",
    "# print(df.describe())\n",
    "\n",
    "\n",
    "# newdf = df.assign(A=1, inplace=True)\n",
    "# print(newdf)\n",
    "# print(id(newdf))\n",
    "# df.idxmax(), df.max()\n",
    "# df.info()\n",
    "# df.describe()\n",
    "# df.values[0][0]=100\n",
    "\n",
    "df['A'][0] = 10\n",
    "print(df)\n",
    "\n",
    "df.at[0, 'A']=100\n",
    "print(df)\n",
    "# df.columns\n",
    "\n",
    "# df[\"A\"] = 1\n",
    "# print(df)\n",
    "# print(id(df))\n",
    "\n",
    "# Pandas depends upon and interoperates with NumPy, the Python library for fast numeric array computations. \n",
    "# For example, you can use the DataFrame attribute .values to represent a DataFrame df as a NumPy array. \n",
    "#You can also pass pandas data structures to NumPy methods."
   ]
  },
  {
   "cell_type": "code",
   "execution_count": 276,
   "metadata": {},
   "outputs": [
    {
     "name": "stdout",
     "output_type": "stream",
     "text": [
      "7.06 µs ± 118 ns per loop (mean ± std. dev. of 7 runs, 100000 loops each)\n",
      "5.52 µs ± 64.2 ns per loop (mean ± std. dev. of 7 runs, 100000 loops each)\n"
     ]
    },
    {
     "name": "stderr",
     "output_type": "stream",
     "text": [
      "C:\\Users\\dj\\Anaconda3\\lib\\site-packages\\ipykernel_launcher.py:1: FutureWarning: set_value is deprecated and will be removed in a future release. Please use .at[] or .iat[] accessors instead\n",
      "  \"\"\"Entry point for launching an IPython kernel.\n"
     ]
    },
    {
     "name": "stdout",
     "output_type": "stream",
     "text": [
      "3.68 µs ± 80.8 ns per loop (mean ± std. dev. of 7 runs, 100000 loops each)\n",
      "98.7 µs ± 1.07 µs per loop (mean ± std. dev. of 7 runs, 10000 loops each)\n",
      "109 µs ± 1.42 µs per loop (mean ± std. dev. of 7 runs, 10000 loops each)\n"
     ]
    }
   ],
   "source": [
    "import numpy as np\n",
    "import pandas as pd\n",
    "\n",
    "df = pd.DataFrame(np.random.rand(100, 100))\n",
    "\n",
    "\n",
    "%timeit df.iat[50,50]=50\n",
    "%timeit df.at[50,50]=50\n",
    "%timeit df.set_value(50,50,50)\n",
    "%timeit df.iloc[50,50]=50\n",
    "%timeit df.loc[50,50]=50\n",
    "\n",
    "\n"
   ]
  },
  {
   "cell_type": "code",
   "execution_count": 17,
   "metadata": {},
   "outputs": [
    {
     "name": "stdout",
     "output_type": "stream",
     "text": [
      "   A  B\n",
      "0  x  p\n",
      "1  x  p\n",
      "2  y  q\n",
      "3  z  r\n",
      "4  z  r\n",
      "<class 'pandas.core.frame.DataFrame'>\n",
      "RangeIndex: 5 entries, 0 to 4\n",
      "Data columns (total 2 columns):\n",
      "A    5 non-null object\n",
      "B    5 non-null object\n",
      "dtypes: object(2)\n",
      "memory usage: 160.0+ bytes\n",
      "None\n",
      "     c\n",
      "A B   \n",
      "x p  2\n",
      "y q  1\n",
      "z r  2\n",
      "<class 'pandas.core.frame.DataFrame'>\n",
      "MultiIndex: 3 entries, (x, p) to (z, r)\n",
      "Data columns (total 1 columns):\n",
      "c    3 non-null int64\n",
      "dtypes: int64(1)\n",
      "memory usage: 186.0+ bytes\n",
      "None\n",
      "   A  B  c\n",
      "0  x  p  2\n",
      "1  y  q  1\n",
      "2  z  r  2\n",
      "<class 'pandas.core.frame.DataFrame'>\n",
      "RangeIndex: 3 entries, 0 to 2\n",
      "Data columns (total 3 columns):\n",
      "A    3 non-null object\n",
      "B    3 non-null object\n",
      "c    3 non-null int64\n",
      "dtypes: int64(1), object(2)\n",
      "memory usage: 152.0+ bytes\n",
      "None\n"
     ]
    }
   ],
   "source": [
    "import pandas as pd\n",
    "\n",
    "df = pd.DataFrame({'A' : ['x','x','y','z','z'],\n",
    "                   'B' : ['p','p','q','r','r']})\n",
    "print(df)\n",
    "print(df.info())\n",
    "\n",
    "# print(type(df.B))\n",
    "# print(type(df[0][0]))\n",
    "\n",
    "# df[0]=df[0].astype('str')\n",
    "\n",
    "\n",
    "# g=df.groupby(['A','B'])\n",
    "# s=g.size()\n",
    "# x=s.to_frame(\"C\")\n",
    "\n",
    "df = df.groupby(['A','B']).B.agg('count').to_frame('c')#.reset_index()\n",
    "\n",
    "print(df)\n",
    "print(df.info())\n",
    "\n",
    "df = df.reset_index()\n",
    "\n",
    "\n",
    "print(df)\n",
    "print(df.info())\n"
   ]
  },
  {
   "cell_type": "code",
   "execution_count": null,
   "metadata": {},
   "outputs": [],
   "source": []
  },
  {
   "cell_type": "code",
   "execution_count": null,
   "metadata": {},
   "outputs": [],
   "source": []
  },
  {
   "cell_type": "code",
   "execution_count": null,
   "metadata": {},
   "outputs": [],
   "source": []
  },
  {
   "cell_type": "code",
   "execution_count": null,
   "metadata": {},
   "outputs": [],
   "source": []
  },
  {
   "cell_type": "code",
   "execution_count": 79,
   "metadata": {},
   "outputs": [
    {
     "name": "stdout",
     "output_type": "stream",
     "text": [
      "<class 'list'>\n",
      "        0  1   2\n",
      "0  Andrew  1   9\n",
      "1   Peter  1  10\n",
      "2  Andrew  1   8\n",
      "3   Peter  1  11\n",
      "4     Sam  4   9\n",
      "5  Andrew  2   2\n",
      "[0, 1, 2]\n",
      "RangeIndex(start=0, stop=3, step=1)\n",
      "[['Andrew', '1', 17], ['Andrew', '2', 2], ['Peter', '1', 21], ['Sam', '4', 9]]\n"
     ]
    }
   ],
   "source": [
    "data = [['Andrew', '1', '9'], ['Peter', '1', '10'], ['Andrew', '1', '8'], ['Peter', '1', '11'], ['Sam', '4', '9'], ['Andrew', '2', '2']]\n",
    "print(type(data))\n",
    "\n",
    "\n",
    "\n",
    "df = pd.DataFrame(data)\n",
    "print(df)\n",
    "# print(df.groupby(0))\n",
    "# print(df)\n",
    "# print(df.groupby(df.columns[:-1].tolist(), as_index=False).agg(lambda x: x.astype(int).sum()).values.tolist())\n",
    "print(df.columns.tolist())\n",
    "print(df.columns)\n",
    "#sum=lambda x: x.astype(int).sum()\n",
    "df[2] = pd.to_numeric(df[2])\n",
    "print(df.groupby([0,1], as_index=False).agg({2: sum}).values.tolist())\n",
    "\n",
    "\n",
    "\n",
    "# df[2].astype(int).groupby([df[0], df[1]]).sum().reset_index().values.tolist()\n",
    "\n",
    "# print(df.groupby(df.columns.tolist()).agg(lambda x: x.astype(int).sum()).values.tolist())\n",
    "\n",
    "# print(df.groupby(df.columns.tolist(),as_index=False).size())"
   ]
  },
  {
   "cell_type": "code",
   "execution_count": 18,
   "metadata": {},
   "outputs": [
    {
     "name": "stdout",
     "output_type": "stream",
     "text": [
      "   A         B         C\n",
      "0  1  0.521635  0.001587\n",
      "1  1  0.217279  0.863000\n",
      "2  1  0.621316  0.509952\n",
      "3  2  0.829125  0.029178\n",
      "4  2  0.579067  0.188102\n",
      "5  2  0.962682  0.671521\n",
      "6  3  0.329051  0.306224\n",
      "7  3  0.604252  0.473380\n",
      "8  3  0.318725  0.172562\n",
      "          B                   C\n",
      "       mean       std    median\n",
      "A                              \n",
      "1  0.453410  0.210482  0.509952\n",
      "2  0.790291  0.194734  0.188102\n",
      "3  0.417343  0.161951  0.306224\n",
      "     B_mean     B_std  C_median\n",
      "A                              \n",
      "1  0.453410  0.210482  0.509952\n",
      "2  0.790291  0.194734  0.188102\n",
      "3  0.417343  0.161951  0.306224\n"
     ]
    }
   ],
   "source": [
    "df = pd.DataFrame(\n",
    "    {'A': [1,1,1,2,2,2,3,3,3],\n",
    "     'B': np.random.random(9),\n",
    "     'C': np.random.random(9)}\n",
    ")\n",
    "\n",
    "print(df)\n",
    "out = df.groupby('A').agg({'B': [np.mean, np.std], 'C': np.median})\n",
    "print(out)\n",
    "\n",
    "# out.columns = ['B_mean', 'B_std', 'C_median']\n",
    "\n",
    "# print(out)\n",
    "\n",
    "out.columns = out.columns.map('_'.join)\n",
    "\n",
    "\n",
    "print(out)"
   ]
  },
  {
   "cell_type": "code",
   "execution_count": 19,
   "metadata": {},
   "outputs": [
    {
     "name": "stdout",
     "output_type": "stream",
     "text": [
      "0.40122566666666665\n",
      "0.1020284591311006\n",
      "0.846763\n",
      "0.5240793333333333\n"
     ]
    }
   ],
   "source": [
    "print(np.mean([0.383437, 0.118529, 0.701711]))\n",
    "print(np.std([0.291998, 0.362185, 0.119367]))\n",
    "print(np.median([0.846763, 0.134122, 0.959914]))\n",
    "print(np.mean([0.383437,  0.846763,0.118529,  0.134122,0.701711,  0.959914]))\n",
    "\n",
    "\n",
    "\n"
   ]
  },
  {
   "cell_type": "code",
   "execution_count": 6,
   "metadata": {},
   "outputs": [
    {
     "name": "stdout",
     "output_type": "stream",
     "text": [
      "   Qu1  Qu2  Qu3\n",
      "0    1    2    1\n",
      "1    3    3    5\n",
      "2    4    1    2\n",
      "3    3    2    4\n",
      "4    4    3    4\n",
      "   Qu1  Qu2  Qu3\n",
      "1  1.0  1.0  1.0\n",
      "2  0.0  2.0  1.0\n",
      "3  2.0  2.0  0.0\n",
      "4  2.0  0.0  2.0\n",
      "5  0.0  0.0  1.0\n"
     ]
    }
   ],
   "source": [
    "import pandas as pd\n",
    "from pandas import DataFrame\n",
    "\n",
    "data = DataFrame({'Qu1': [1, 3, 4, 3, 4],\n",
    "                  'Qu2': [2, 3, 1, 2, 3], \n",
    "                  'Qu3': [1, 5, 2, 4, 4]})\n",
    "print(data)\n",
    "\n",
    "result = data.apply(pd.value_counts).fillna(0)\n",
    "print(result)"
   ]
  },
  {
   "cell_type": "code",
   "execution_count": 4,
   "metadata": {},
   "outputs": [
    {
     "name": "stdout",
     "output_type": "stream",
     "text": [
      "     a    b     c    d     e\n",
      "0  2.0  NaN   NaN  NaN  12.0\n",
      "1  NaN  5.0  55.0  NaN   NaN\n",
      "2  NaN  NaN  13.0  NaN   NaN\n",
      "3  NaN  NaN  14.0  4.0  22.0\n",
      "<class 'pandas.core.series.Series'>\n"
     ]
    }
   ],
   "source": [
    "import numpy as np\n",
    "\n",
    "df = pd.DataFrame({'a':[2, np.nan, np.nan, np.nan],\n",
    "              'b':[np.nan, 5, np.nan, np.nan],\n",
    "              'c':[np.nan, 55, 13, 14],\n",
    "              'd':[np.nan, np.nan, np.nan, 4],\n",
    "              'e':[12, np.nan, np.nan, 22],\n",
    "          })\n",
    "print(df)\n",
    "\n",
    "print(type(df.bfill(1)['a']))"
   ]
  },
  {
   "cell_type": "code",
   "execution_count": 1,
   "metadata": {},
   "outputs": [
    {
     "name": "stdout",
     "output_type": "stream",
     "text": [
      "  time date name\n",
      "a  NaN  NaN  NaN\n",
      "b  NaN  NaN  NaN\n",
      "c  NaN  NaN  NaN\n"
     ]
    }
   ],
   "source": [
    "import pandas as pd \n",
    "df = pd.DataFrame(index=['a', 'b', 'c'], columns=['time', 'date', 'name'])\n",
    "print(df)"
   ]
  },
  {
   "cell_type": "code",
   "execution_count": null,
   "metadata": {},
   "outputs": [],
   "source": [
    "http://strftime.org/\n",
    "    \n",
    "# Code \tMeaning \tExample\n",
    "# %a \tWeekday as locale’s abbreviated name. \tMon\n",
    "# %A \tWeekday as locale’s full name. \tMonday\n",
    "# %w \tWeekday as a decimal number, where 0 is Sunday and 6 is Saturday. \t1\n",
    "# %d \tDay of the month as a zero-padded decimal number. \t30\n",
    "# %-d \tDay of the month as a decimal number. (Platform specific) \t30\n",
    "# %b \tMonth as locale’s abbreviated name. \tSep\n",
    "# %B \tMonth as locale’s full name. \tSeptember\n",
    "# %m \tMonth as a zero-padded decimal number. \t09\n",
    "# %-m \tMonth as a decimal number. (Platform specific) \t9\n",
    "# %y \tYear without century as a zero-padded decimal number. \t13\n",
    "# %Y \tYear with century as a decimal number. \t2013\n",
    "# %H \tHour (24-hour clock) as a zero-padded decimal number. \t07\n",
    "# %-H \tHour (24-hour clock) as a decimal number. (Platform specific) \t7\n",
    "# %I \tHour (12-hour clock) as a zero-padded decimal number. \t07\n",
    "# %-I \tHour (12-hour clock) as a decimal number. (Platform specific) \t7\n",
    "# %p \tLocale’s equivalent of either AM or PM. \tAM\n",
    "# %M \tMinute as a zero-padded decimal number. \t06\n",
    "# %-M \tMinute as a decimal number. (Platform specific) \t6\n",
    "# %S \tSecond as a zero-padded decimal number. \t05\n",
    "# %-S \tSecond as a decimal number. (Platform specific) \t5\n",
    "# %f \tMicrosecond as a decimal number, zero-padded on the left. \t000000\n",
    "# %z \tUTC offset in the form +HHMM or -HHMM (empty string if the the object is naive). \t\n",
    "# %Z \tTime zone name (empty string if the object is naive). \t\n",
    "# %j \tDay of the year as a zero-padded decimal number. \t273\n",
    "# %-j \tDay of the year as a decimal number. (Platform specific) \t273\n",
    "# %U \tWeek number of the year (Sunday as the first day of the week) as a zero padded decimal number. All days in a new year preceding the first Sunday are considered to be in week 0. \t39\n",
    "# %W \tWeek number of the year (Monday as the first day of the week) as a decimal number. All days in a new year preceding the first Monday are considered to be in week 0. \t39\n",
    "# %c \tLocale’s appropriate date and time representation. \tMon Sep 30 07:06:05 2013\n",
    "# %x \tLocale’s appropriate date representation. \t09/30/13\n",
    "# %X \tLocale’s appropriate time representation. \t07:06:05\n",
    "# %% \tA literal '%' character. \t%"
   ]
  }
 ],
 "metadata": {
  "kernelspec": {
   "display_name": "Python 3",
   "language": "python",
   "name": "python3"
  },
  "language_info": {
   "codemirror_mode": {
    "name": "ipython",
    "version": 3
   },
   "file_extension": ".py",
   "mimetype": "text/x-python",
   "name": "python",
   "nbconvert_exporter": "python",
   "pygments_lexer": "ipython3",
   "version": "3.7.1"
  }
 },
 "nbformat": 4,
 "nbformat_minor": 2
}
