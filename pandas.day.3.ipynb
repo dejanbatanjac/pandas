{
 "cells": [
  {
   "cell_type": "code",
   "execution_count": 335,
   "metadata": {},
   "outputs": [
    {
     "data": {
      "text/plain": [
       "[['Newcastle United', '24', '20', '10'],\n",
       " ['FC Wimbledon', '21', '20', '11'],\n",
       " ['Arsenal', '21', '19', '8'],\n",
       " ['Southampton', '9', '14', '13'],\n",
       " ['Nottingham Forest', '8', '10', '17'],\n",
       " ['Coventry City', '7', '4', '14'],\n",
       " ['Blackburn Rovers', '4', '6', '14']]"
      ]
     },
     "execution_count": 335,
     "metadata": {},
     "output_type": "execute_result"
    }
   ],
   "source": [
    "l=[['Southampton', '9', '14', '13'],\n",
    "['Nottingham Forest', '8', '10', '17'],\n",
    "['Coventry City', '7', '4', '14'],\n",
    "['Blackburn Rovers', '4', '6', '14'],\n",
    "['Newcastle United', '24', '20', '10'],\n",
    "['FC Wimbledon', '21', '20', '11'],\n",
    "['Arsenal', '21', '19', '8']]\n",
    "l\n",
    "\n",
    "s = sorted(l, key=lambda i: (int(i[1]), int(i[2])), reverse=True)\n",
    "s"
   ]
  },
  {
   "cell_type": "code",
   "execution_count": 336,
   "metadata": {},
   "outputs": [
    {
     "name": "stdout",
     "output_type": "stream",
     "text": [
      "name = yasoob\n"
     ]
    }
   ],
   "source": [
    "def greet_me(**kwargs):\n",
    "    for key, value in kwargs.items():\n",
    "        print(\"{0} = {1}\".format(key, value))\n",
    "\n",
    "greet_me(name=\"yasoob\")\n"
   ]
  },
  {
   "cell_type": "code",
   "execution_count": 103,
   "metadata": {},
   "outputs": [
    {
     "name": "stdout",
     "output_type": "stream",
     "text": [
      "[['210123278414410005' '101232784144610006']] <class 'numpy.ndarray'> (1, 2)\n",
      "[['10006' '10006']]\n"
     ]
    }
   ],
   "source": [
    "import numpy as np\n",
    "import pandas as pd\n",
    "\n",
    "x = pd.DataFrame([['210123278414410005', '101232784144610006']])\n",
    "xv = x.values\n",
    "print(xv, type(xv), xv.shape)\n",
    "\n",
    "# xv[0][:] = xv[[0][:]][0][0][13:]\n",
    "\n",
    "\n",
    "xv[0][:] = [xv[0][:]][0][1][13:]\n",
    "print(xv)\n"
   ]
  },
  {
   "cell_type": "code",
   "execution_count": 337,
   "metadata": {},
   "outputs": [
    {
     "name": "stdout",
     "output_type": "stream",
     "text": [
      "<class 'str'>\n"
     ]
    }
   ],
   "source": [
    "import numpy\n",
    "s = numpy.array(['a', 'b', 'dude'], dtype='object')\n",
    "s[0] += 'bcdef'\n",
    "\n",
    "print(type(s[0]))"
   ]
  },
  {
   "cell_type": "code",
   "execution_count": 146,
   "metadata": {},
   "outputs": [
    {
     "data": {
      "text/plain": [
       "[['10005', '10006']]"
      ]
     },
     "execution_count": 146,
     "metadata": {},
     "output_type": "execute_result"
    }
   ],
   "source": [
    "import numpy\n",
    "s = numpy.array([['210123278414410005', '101232784144610006']], dtype='object')\n",
    "[[x[13:] for x in s[0]]]"
   ]
  },
  {
   "cell_type": "code",
   "execution_count": null,
   "metadata": {},
   "outputs": [],
   "source": []
  },
  {
   "cell_type": "code",
   "execution_count": 338,
   "metadata": {},
   "outputs": [
    {
     "name": "stdout",
     "output_type": "stream",
     "text": [
      "[['210123278414410005' '101232784144610006']] <class 'numpy.ndarray'> (1, 2) ...\n",
      "[['10005' '10006']] <class 'numpy.ndarray'> (1, 2) ...\n"
     ]
    }
   ],
   "source": [
    "import numpy\n",
    "s = numpy.array([['210123278414410005', '101232784144610006']], dtype='object')\n",
    "print(s, type(s), s.shape, \"...\")\n",
    "\n",
    "for i in range(s.shape[1]):  \n",
    "    s[0,i] = s[0,i][13:]\n",
    "\n",
    "print(s, type(s), s.shape, \"...\")\n"
   ]
  },
  {
   "cell_type": "code",
   "execution_count": null,
   "metadata": {},
   "outputs": [],
   "source": [
    "OverflowError: Python int too large to convert to C long"
   ]
  },
  {
   "cell_type": "code",
   "execution_count": 339,
   "metadata": {},
   "outputs": [
    {
     "name": "stdout",
     "output_type": "stream",
     "text": [
      "[[0 1 2]\n",
      " [3 4 5]]\n",
      "Help on function place in module numpy.lib.function_base:\n",
      "\n",
      "place(arr, mask, vals)\n",
      "    Change elements of an array based on conditional and input values.\n",
      "    \n",
      "    Similar to ``np.copyto(arr, vals, where=mask)``, the difference is that\n",
      "    `place` uses the first N elements of `vals`, where N is the number of\n",
      "    True values in `mask`, while `copyto` uses the elements where `mask`\n",
      "    is True.\n",
      "    \n",
      "    Note that `extract` does the exact opposite of `place`.\n",
      "    \n",
      "    Parameters\n",
      "    ----------\n",
      "    arr : ndarray\n",
      "        Array to put data into.\n",
      "    mask : array_like\n",
      "        Boolean mask array. Must have the same size as `a`.\n",
      "    vals : 1-D sequence\n",
      "        Values to put into `a`. Only the first N elements are used, where\n",
      "        N is the number of True values in `mask`. If `vals` is smaller\n",
      "        than N, it will be repeated, and if elements of `a` are to be masked,\n",
      "        this sequence must be non-empty.\n",
      "    \n",
      "    See Also\n",
      "    --------\n",
      "    copyto, put, take, extract\n",
      "    \n",
      "    Examples\n",
      "    --------\n",
      "    >>> arr = np.arange(6).reshape(2, 3)\n",
      "    >>> np.place(arr, arr>2, [44, 55])\n",
      "    >>> arr\n",
      "    array([[ 0,  1,  2],\n",
      "           [44, 55, 44]])\n",
      "\n",
      "[[  0 -10   2]\n",
      " [  3   4   5]]\n"
     ]
    }
   ],
   "source": [
    "import numpy as np\n",
    "\n",
    "arr = np.arange(6).reshape(2, 3)\n",
    "print(arr)\n",
    "np.place(arr, arr == 1, -10)\n",
    "help(np.place)\n",
    "print(arr)"
   ]
  },
  {
   "cell_type": "code",
   "execution_count": 297,
   "metadata": {},
   "outputs": [
    {
     "name": "stdout",
     "output_type": "stream",
     "text": [
      "Float64Index([3.0, 1.0, 2.0, 3.0, 4.0, nan], dtype='float64') <class 'pandas.core.indexes.numeric.Float64Index'>\n",
      "3.0    2\n",
      "4.0    1\n",
      "2.0    1\n",
      "1.0    1\n",
      "dtype: int64 <class 'pandas.core.series.Series'>\n"
     ]
    }
   ],
   "source": [
    "import pandas as pd\n",
    "i = pd.Index([3, 1, 2, 3, 4, np.nan])\n",
    "print(i,type(i))\n",
    "ivc =index.value_counts()\n",
    "print(ivc, type(ivc))\n"
   ]
  },
  {
   "cell_type": "code",
   "execution_count": 340,
   "metadata": {},
   "outputs": [
    {
     "data": {
      "text/plain": [
       "{'di': {'c1': 'avg11', 'c2': 'stdev12'},\n",
       " 'eng': {'c1': 'stdev21', 'c2': 'stdev22'}}"
      ]
     },
     "execution_count": 340,
     "metadata": {},
     "output_type": "execute_result"
    }
   ],
   "source": [
    "data = [\n",
    "    ('di', 'c1', 'avg11'),\n",
    "    ('di', 'c2', 'stdev12'),\n",
    "     ('eng', 'c1', 'stdev21'),\n",
    "     ('eng', 'c2', 'stdev22')]\n",
    "\n",
    "data\n",
    "\n",
    "r = {};\n",
    "\n",
    "for a,b,c in data: \n",
    "    r.setdefault(a, {})[b] = c\n",
    "    \n",
    "r"
   ]
  }
 ],
 "metadata": {
  "kernelspec": {
   "display_name": "Python 3",
   "language": "python",
   "name": "python3"
  },
  "language_info": {
   "codemirror_mode": {
    "name": "ipython",
    "version": 3
   },
   "file_extension": ".py",
   "mimetype": "text/x-python",
   "name": "python",
   "nbconvert_exporter": "python",
   "pygments_lexer": "ipython3",
   "version": "3.7.1"
  }
 },
 "nbformat": 4,
 "nbformat_minor": 2
}
