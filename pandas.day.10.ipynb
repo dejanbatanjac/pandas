{
 "cells": [
  {
   "cell_type": "code",
   "execution_count": 13,
   "metadata": {},
   "outputs": [],
   "source": [
    "import pandas as pd \n",
    "import numpy as np\n",
    "import io\n"
   ]
  },
  {
   "cell_type": "code",
   "execution_count": 14,
   "metadata": {},
   "outputs": [
    {
     "data": {
      "text/plain": [
       "array([2, 3], dtype=int64)"
      ]
     },
     "execution_count": 14,
     "metadata": {},
     "output_type": "execute_result"
    }
   ],
   "source": [
    "states = [False, False, True, True]\n",
    "np.where(states)[0]\n"
   ]
  },
  {
   "cell_type": "code",
   "execution_count": 607,
   "metadata": {},
   "outputs": [
    {
     "name": "stdout",
     "output_type": "stream",
     "text": [
      "         name  degree  score\n",
      "True   aparna     MBA     90\n",
      "False  pankaj     BCA     40\n",
      "True   sudhir  M.Tech     80\n",
      "False   Geeku     MBA     98\n",
      "Index([True, False, True, False], dtype='object')\n"
     ]
    },
    {
     "data": {
      "text/html": [
       "<div>\n",
       "<style scoped>\n",
       "    .dataframe tbody tr th:only-of-type {\n",
       "        vertical-align: middle;\n",
       "    }\n",
       "\n",
       "    .dataframe tbody tr th {\n",
       "        vertical-align: top;\n",
       "    }\n",
       "\n",
       "    .dataframe thead th {\n",
       "        text-align: right;\n",
       "    }\n",
       "</style>\n",
       "<table border=\"1\" class=\"dataframe\">\n",
       "  <thead>\n",
       "    <tr style=\"text-align: right;\">\n",
       "      <th></th>\n",
       "      <th>name</th>\n",
       "      <th>degree</th>\n",
       "      <th>score</th>\n",
       "    </tr>\n",
       "  </thead>\n",
       "  <tbody>\n",
       "    <tr>\n",
       "      <th>True</th>\n",
       "      <td>aparna</td>\n",
       "      <td>MBA</td>\n",
       "      <td>90</td>\n",
       "    </tr>\n",
       "    <tr>\n",
       "      <th>True</th>\n",
       "      <td>sudhir</td>\n",
       "      <td>M.Tech</td>\n",
       "      <td>80</td>\n",
       "    </tr>\n",
       "  </tbody>\n",
       "</table>\n",
       "</div>"
      ],
      "text/plain": [
       "        name  degree  score\n",
       "True  aparna     MBA     90\n",
       "True  sudhir  M.Tech     80"
      ]
     },
     "execution_count": 607,
     "metadata": {},
     "output_type": "execute_result"
    }
   ],
   "source": [
    "import pandas as pd \n",
    "   \n",
    "# dictionary of lists \n",
    "dict = {'name':[\"aparna\", \"pankaj\", \"sudhir\", \"Geeku\"], \n",
    "        'degree': [\"MBA\", \"BCA\", \"M.Tech\", \"MBA\"], \n",
    "        'score':[90, 40, 80, 98]} \n",
    "  \n",
    "# creating a dataframe with boolean index   \n",
    "df = pd.DataFrame(dict, index = [True, False, True, False]) \n",
    "  \n",
    "# accessing a dataframe using .iloc[] function  \n",
    "print(df)\n",
    "print(df.index)\n",
    "df[df.index] #returns only those True"
   ]
  },
  {
   "cell_type": "code",
   "execution_count": 449,
   "metadata": {},
   "outputs": [
    {
     "name": "stdout",
     "output_type": "stream",
     "text": [
      "   id  col_a      col_b  1.0  2.0  3.0\n",
      "0   1    100  (1, 2, 3)    1    1    1\n",
      "1   2    200     (1, 2)    1    1    0\n",
      "2   3    300          3    0    0    1\n",
      "...\n",
      "0    1\n",
      "1    1\n",
      "2    0\n",
      "Name: 1.0, dtype: uint8\n"
     ]
    },
    {
     "data": {
      "text/html": [
       "<div>\n",
       "<style scoped>\n",
       "    .dataframe tbody tr th:only-of-type {\n",
       "        vertical-align: middle;\n",
       "    }\n",
       "\n",
       "    .dataframe tbody tr th {\n",
       "        vertical-align: top;\n",
       "    }\n",
       "\n",
       "    .dataframe thead th {\n",
       "        text-align: right;\n",
       "    }\n",
       "</style>\n",
       "<table border=\"1\" class=\"dataframe\">\n",
       "  <thead>\n",
       "    <tr style=\"text-align: right;\">\n",
       "      <th></th>\n",
       "      <th>id</th>\n",
       "      <th>col_a</th>\n",
       "      <th>col_b</th>\n",
       "    </tr>\n",
       "  </thead>\n",
       "  <tbody>\n",
       "    <tr>\n",
       "      <th>0</th>\n",
       "      <td>1</td>\n",
       "      <td>100</td>\n",
       "      <td>(1, 2, 3)</td>\n",
       "    </tr>\n",
       "    <tr>\n",
       "      <th>1</th>\n",
       "      <td>2</td>\n",
       "      <td>200</td>\n",
       "      <td>(1, 2)</td>\n",
       "    </tr>\n",
       "  </tbody>\n",
       "</table>\n",
       "</div>"
      ],
      "text/plain": [
       "   id  col_a      col_b\n",
       "0   1    100  (1, 2, 3)\n",
       "1   2    200     (1, 2)"
      ]
     },
     "execution_count": 449,
     "metadata": {},
     "output_type": "execute_result"
    }
   ],
   "source": [
    "import pandas as pd\n",
    "import io\n",
    "from tabulate import tabulate\n",
    "\n",
    "\n",
    "temp=u\"\"\"\n",
    "id   col_a   col_b            \n",
    "1    100    1, 2, 3\n",
    "2    200    1, 2\n",
    "3    300  3\"\"\"\n",
    "df =pd.read_csv(io.StringIO(temp), sep=r'\\s{2,}', engine='python', encoding = \"iso-8859-1\")\n",
    "# for i in range(len(df)):\n",
    "#      df.at[i,'col2']=eval(df.at[i,'col2'])\n",
    "\n",
    "df['col_b'] = df.apply(lambda x: eval(x['col_b']), axis = 1)  \n",
    "s=df['col_b']\n",
    "d = pd.get_dummies(s.apply(pd.Series).stack()).sum(level=0)\n",
    "df = pd.concat([df, d], axis=1); \n",
    "print(df)\n",
    "print('...')\n",
    "print(df[1.0])\n",
    "df.loc[df[1.0]==1, ['id', 'col_a', 'col_b']]\n",
    "\n"
   ]
  },
  {
   "cell_type": "code",
   "execution_count": 280,
   "metadata": {},
   "outputs": [
    {
     "name": "stdout",
     "output_type": "stream",
     "text": [
      "   col_a  col_b\n",
      "0      0      1\n",
      "1      0      2\n",
      "2      0      3\n",
      "3      1      1\n",
      "4      1      2\n",
      "col_a\n",
      "0    1\n",
      "0    2\n",
      "0    3\n",
      "1    1\n",
      "1    2\n",
      "Name: col_b, dtype: int64\n",
      "       1  2  3\n",
      "col_a         \n",
      "0      1  1  1\n",
      "1      1  1  0\n"
     ]
    }
   ],
   "source": [
    "temp=u\"\"\"\n",
    "50col_a  col_b\n",
    "  0      1\n",
    "  0      2\n",
    "  0      3\n",
    "  1      1\n",
    "  1      2\"\"\"\n",
    "df =pd.read_csv(io.StringIO(temp), sep=r'\\s{2,}', engine='python', encoding = \"iso-8859-1\")\n",
    "print(df)\n",
    "\n",
    "df2=df.set_index('col_a')\n",
    "df2=df2['col_b']\n",
    "\n",
    "# df = pd.get_dummies(df.set_index('col_a')['col_b'], prefix='', prefix_sep='').max(level=0)\n",
    "# n = df.set_index('col_a')['col_b'], prefix='', prefix_sep='').max(level=0)\n",
    "# d=df['col_b']\n",
    "print(df2)\n",
    "\n",
    "df3 = pd.get_dummies(df2, prefix='', prefix_sep='').max(level=0)\n",
    "print(df3)\n"
   ]
  },
  {
   "cell_type": "code",
   "execution_count": null,
   "metadata": {},
   "outputs": [],
   "source": []
  },
  {
   "cell_type": "code",
   "execution_count": 11,
   "metadata": {},
   "outputs": [
    {
     "name": "stdout",
     "output_type": "stream",
     "text": [
      "0     True\n",
      "1    False\n",
      "2    False\n",
      "3    False\n",
      "4    False\n",
      "5    False\n",
      "Name: col_1, dtype: bool\n"
     ]
    }
   ],
   "source": [
    "df = pd.DataFrame({\n",
    "        'A':list('abcdef'),\n",
    "         'col_1':[np.nan,5,4,5,5,4],\n",
    "         'C':[7,8,9,4,2,3],\n",
    "         'col_2':[np.nan,3,5,7,1,np.nan],\n",
    "         'E':[5,3,6,9,2,4],\n",
    "         'F':list('aaabbb')\n",
    "})\n",
    "\n",
    "str_a = 'df.col_1.isna()'\n",
    "e = eval(str_a)\n",
    "print(e)\n"
   ]
  },
  {
   "cell_type": "code",
   "execution_count": 94,
   "metadata": {
    "scrolled": true
   },
   "outputs": [
    {
     "name": "stdout",
     "output_type": "stream",
     "text": [
      "                                        Col\n",
      "0  hello, I'm today hh hhhh hhhhhhhhhhhhhhh\n",
      "1                               Hello World\n",
      "                     Col\n",
      "0  hello, I'm today hh  \n",
      "1            Hello World\n"
     ]
    }
   ],
   "source": [
    "df = pd.DataFrame({\"Col\": [\"hello, I'm today hh hhhh hhhhhhhhhhhhhhh\", \"Hello World\"]})\n",
    "\n",
    "print(df)\n",
    "df[\"Col\"] = df[\"Col\"].str.replace(u\"h{4,}\", \"\")\n",
    "print(df)"
   ]
  },
  {
   "cell_type": "code",
   "execution_count": 75,
   "metadata": {},
   "outputs": [
    {
     "name": "stdout",
     "output_type": "stream",
     "text": [
      "    id   datapoint1    datapoint2   datapoint3    datapoint4\n",
      "0  1.0  example.com  example2.com  example.com  example3.com\n",
      "1  2.0     test.com      test.com     test.com      test.com\n",
      "2  3.0       ex.com        ex.com      ex1.com        ex.com\n",
      "3  4.0       te.com      test.com       te.com      test.com\n",
      "[None]\n"
     ]
    }
   ],
   "source": [
    "import pandas as pd\n",
    "import io\n",
    "\n",
    "temp=u\"\"\"\n",
    "id datapoint1     datapoint2    datapoint3    datapoint4\n",
    "1  example.com    example2.com  example.com   example3.com\n",
    "2. test.com       test.com      test.com      test.com\n",
    "3. ex.com         ex.com        ex1.com       ex.com\n",
    "4. te.com         test.com      te.com       test.com\"\"\"\n",
    "df =pd.read_csv(io.StringIO(temp), sep=r'\\s{1,}', engine='python', encoding = \"iso-8859-1\")\n",
    "import pandas as pd\n",
    "print(df)\n",
    "\n",
    "\n",
    "df2 = df.T\n",
    "\n",
    "print(df2.columns.names)\n",
    "\n",
    "# df2.drop_duplicates(inplace=True)\n",
    "# df2.drop_duplicates(subset='A', keep=\"last\")\n",
    "# print(df2.T)"
   ]
  },
  {
   "cell_type": "code",
   "execution_count": 388,
   "metadata": {},
   "outputs": [
    {
     "name": "stdout",
     "output_type": "stream",
     "text": [
      "  created_date       h2o\n",
      "0   2015-12-31  169457.0\n",
      "1   2016-12-31  155578.0\n",
      "2   2017-12-31  152009.0\n",
      "3   2018-12-31  153277.0\n",
      "4   2019-12-31   76712.0\n",
      "                   h2o\n",
      "created_date          \n",
      "2015-12-31    169457.0\n",
      "2016-12-31    155578.0\n",
      "2017-12-31    152009.0\n",
      "2018-12-31    153277.0\n",
      "2019-12-31     76712.0\n"
     ]
    },
    {
     "data": {
      "text/html": [
       "<div>\n",
       "<style scoped>\n",
       "    .dataframe tbody tr th:only-of-type {\n",
       "        vertical-align: middle;\n",
       "    }\n",
       "\n",
       "    .dataframe tbody tr th {\n",
       "        vertical-align: top;\n",
       "    }\n",
       "\n",
       "    .dataframe thead th {\n",
       "        text-align: right;\n",
       "    }\n",
       "</style>\n",
       "<table border=\"1\" class=\"dataframe\">\n",
       "  <thead>\n",
       "    <tr style=\"text-align: right;\">\n",
       "      <th></th>\n",
       "      <th>h2o</th>\n",
       "    </tr>\n",
       "    <tr>\n",
       "      <th>created_date</th>\n",
       "      <th></th>\n",
       "    </tr>\n",
       "  </thead>\n",
       "  <tbody>\n",
       "    <tr>\n",
       "      <th>2015-12-31</th>\n",
       "      <td>169457.0</td>\n",
       "    </tr>\n",
       "    <tr>\n",
       "      <th>2016-12-31</th>\n",
       "      <td>155578.0</td>\n",
       "    </tr>\n",
       "    <tr>\n",
       "      <th>2017-12-31</th>\n",
       "      <td>152009.0</td>\n",
       "    </tr>\n",
       "    <tr>\n",
       "      <th>2018-12-31</th>\n",
       "      <td>153277.0</td>\n",
       "    </tr>\n",
       "  </tbody>\n",
       "</table>\n",
       "</div>"
      ],
      "text/plain": [
       "                   h2o\n",
       "created_date          \n",
       "2015-12-31    169457.0\n",
       "2016-12-31    155578.0\n",
       "2017-12-31    152009.0\n",
       "2018-12-31    153277.0"
      ]
     },
     "execution_count": 388,
     "metadata": {},
     "output_type": "execute_result"
    }
   ],
   "source": [
    "import pandas as pd\n",
    "import io\n",
    "#HEAT/HOT_WATER\n",
    "temp=u\"\"\"          \n",
    "created_date    h2o\n",
    "2015-12-31  169457.0\n",
    "2016-12-31  155578.0\n",
    "2017-12-31  152009.0\n",
    "2018-12-31  153277.0\n",
    "2019-12-31  76712.0  \n",
    "\"\"\"\n",
    "df =pd.read_csv(io.StringIO(temp), sep=r'\\s{1,}', engine='python', encoding = \"iso-8859-1\")\n",
    "import pandas as pd\n",
    "print(df)\n",
    "df = df.set_index('created_date')\n",
    "print(df)\n",
    "\n",
    "\n",
    "df.index = pd.to_datetime(df.index)\n",
    "df[df.index.year != 2019]\n",
    "\n"
   ]
  },
  {
   "cell_type": "code",
   "execution_count": 487,
   "metadata": {},
   "outputs": [
    {
     "name": "stdout",
     "output_type": "stream",
     "text": [
      "   Item Syntax       Date\n",
      "0     1   1x12  5/14/2019\n",
      "1     2   4x16  5/14/2019\n",
      "2     3     32  5/14/2019\n",
      "3     4   3x10  5/14/2019\n",
      "    0   1\n",
      "0  1x  12\n",
      "1  4x  16\n",
      "2  1x  32\n",
      "3  3x  10\n",
      "   Item Syntax       Date\n",
      "0     1   1x12  5/14/2019\n",
      "1     2   4x16  5/14/2019\n",
      "2     3   1x32  5/14/2019\n",
      "3     4   3x10  5/14/2019\n"
     ]
    }
   ],
   "source": [
    "import pandas as pd\n",
    "import io\n",
    "\n",
    "temp=u\"\"\"\n",
    "Item    Syntax  Date\n",
    "1   1x12    5/14/2019\n",
    "2   4x16    5/14/2019\n",
    "3   32  5/14/2019\n",
    "4   3x10    5/14/2019\"\"\"\n",
    "df =pd.read_csv(io.StringIO(temp), sep=r'\\s{1,}', engine='python', encoding = \"iso-8859-1\")\n",
    "import pandas as pd\n",
    "print(df)\n",
    "\n",
    "n=df.Syntax.str.extract(r'(\\d{1,}x)?(\\d{1,})')\n",
    "n[0] =n[0].fillna('1x')\n",
    "df.Syntax=n[0]+n[1]\n",
    "print(n)\n",
    "print(df)\n",
    "\n",
    "\n"
   ]
  },
  {
   "cell_type": "code",
   "execution_count": 15,
   "metadata": {},
   "outputs": [
    {
     "name": "stdout",
     "output_type": "stream",
     "text": [
      "   ID        col1        col2\n",
      "0   1  Abc street  2017-07-27\n",
      "1   1        None  2017-08-17\n",
      "2   1  Def street  2018-07-15\n",
      "3   1        None  2018-08-13\n",
      "4   2  fbg street  2018-01-07\n",
      "5   2        None  2018-08-12\n",
      "6   2  trf street  2019-01-15\n"
     ]
    },
    {
     "data": {
      "text/html": [
       "<div>\n",
       "<style scoped>\n",
       "    .dataframe tbody tr th:only-of-type {\n",
       "        vertical-align: middle;\n",
       "    }\n",
       "\n",
       "    .dataframe tbody tr th {\n",
       "        vertical-align: top;\n",
       "    }\n",
       "\n",
       "    .dataframe thead th {\n",
       "        text-align: right;\n",
       "    }\n",
       "</style>\n",
       "<table border=\"1\" class=\"dataframe\">\n",
       "  <thead>\n",
       "    <tr style=\"text-align: right;\">\n",
       "      <th></th>\n",
       "      <th>ID</th>\n",
       "      <th>col1</th>\n",
       "      <th>col2</th>\n",
       "      <th>col3</th>\n",
       "    </tr>\n",
       "  </thead>\n",
       "  <tbody>\n",
       "    <tr>\n",
       "      <th>0</th>\n",
       "      <td>1</td>\n",
       "      <td>Abc street</td>\n",
       "      <td>2017-07-27</td>\n",
       "      <td>2017-08-17</td>\n",
       "    </tr>\n",
       "    <tr>\n",
       "      <th>1</th>\n",
       "      <td>1</td>\n",
       "      <td>Def street</td>\n",
       "      <td>2018-07-15</td>\n",
       "      <td>2018-08-13</td>\n",
       "    </tr>\n",
       "    <tr>\n",
       "      <th>2</th>\n",
       "      <td>2</td>\n",
       "      <td>fbg street</td>\n",
       "      <td>2018-01-07</td>\n",
       "      <td>2018-08-12</td>\n",
       "    </tr>\n",
       "    <tr>\n",
       "      <th>3</th>\n",
       "      <td>2</td>\n",
       "      <td>trf street</td>\n",
       "      <td>2019-01-15</td>\n",
       "      <td>NaN</td>\n",
       "    </tr>\n",
       "  </tbody>\n",
       "</table>\n",
       "</div>"
      ],
      "text/plain": [
       "   ID        col1        col2        col3\n",
       "0   1  Abc street  2017-07-27  2017-08-17\n",
       "1   1  Def street  2018-07-15  2018-08-13\n",
       "2   2  fbg street  2018-01-07  2018-08-12\n",
       "3   2  trf street  2019-01-15         NaN"
      ]
     },
     "execution_count": 15,
     "metadata": {},
     "output_type": "execute_result"
    }
   ],
   "source": [
    "import numpy as np\n",
    "\n",
    "temp=u\"\"\"\n",
    "ID      col1           col2 \n",
    "1    Abc street       2017-07-27 \n",
    "1    None             2017-08-17 \n",
    "1    Def street       2018-07-15 \n",
    "1    None             2018-08-13 \n",
    "2    fbg street       2018-01-07 \n",
    "2    None             2018-08-12 \n",
    "2    trf street       2019-01-15 \n",
    "\"\"\"\n",
    "df =pd.read_csv(io.StringIO(temp), sep=r'\\s{2,}', engine='python', encoding = \"iso-8859-1\")\n",
    "import pandas as pd\n",
    "print(df)\n",
    "\n",
    "i, rows = pd.factorize([*zip(df.ID, df.col1.replace('None'))])\n",
    "k, cols = pd.factorize(df.groupby(i).cumcount())\n",
    "\n",
    "dleft = pd.DataFrame(dict(zip(['ID', 'col1'], zip(*rows))))\n",
    "drigt = pd.DataFrame(index=dleft.index, columns=np.arange(len(cols)) + 2).add_prefix('col')\n",
    "drigt.values[i, k] = df.col2.values\n",
    "\n",
    "dleft.join(drigt)\n",
    "\n"
   ]
  },
  {
   "cell_type": "code",
   "execution_count": 16,
   "metadata": {},
   "outputs": [
    {
     "name": "stdout",
     "output_type": "stream",
     "text": [
      "  c1  c2     c3\n",
      "0  a   0  textA\n",
      "1  b   1  textB\n",
      "2  c   2  textC\n",
      "  c1  c2     c3\n",
      "0  a   0  textA\n",
      "1  b   1  textB\n",
      "2  c   2  textC\n",
      "3  a   0  textA\n",
      "4  b   1  textB\n",
      "5  c   2  textC\n",
      "  c1  c2     c3\n",
      "0  a   0  textA\n",
      "1  b   1  textB\n",
      "2  c   2  textC\n",
      "2  c   2  textC\n",
      "  c1  c2     c3\n",
      "0  a   0  textA\n",
      "1  b   1  textB\n",
      "2  c   2  textC\n",
      "3  c   2  textC\n"
     ]
    }
   ],
   "source": [
    "import pandas as pd\n",
    "import io\n",
    "\n",
    "temp=u\"\"\"\n",
    "c1  c2  c3\n",
    "0   a   0   textA\n",
    "1   b   1   textB\n",
    "2   c   2   textC\n",
    "\"\"\"\n",
    "df =pd.read_csv(io.StringIO(temp), sep=r'\\s{1,}', engine='python', encoding = \"iso-8859-1\")\n",
    "import pandas as pd\n",
    "print(df)\n",
    "\n",
    "\n",
    "df2 = pd.concat([df]*2, ignore_index=True)\n",
    "print(df2)\n",
    "\n",
    "df3= pd.concat([df, df.iloc[[2]]])\n",
    "print(df3)\n",
    "\n",
    "df3=df3.reset_index(drop=True)\n",
    "print(df3)\n"
   ]
  },
  {
   "cell_type": "code",
   "execution_count": 18,
   "metadata": {},
   "outputs": [
    {
     "name": "stdout",
     "output_type": "stream",
     "text": [
      "0   2017-01-01\n",
      "1   2017-01-02\n",
      "2   2017-01-03\n",
      "3   2017-01-04\n",
      "4   2017-01-05\n",
      "5   2017-01-06\n",
      "6   2017-01-07\n",
      "7   2017-01-08\n",
      "8   2017-01-09\n",
      "dtype: datetime64[ns]\n"
     ]
    },
    {
     "data": {
      "text/plain": [
       "0       Sunday\n",
       "1       Monday\n",
       "2      Tuesday\n",
       "3    Wednesday\n",
       "4     Thursday\n",
       "5       Friday\n",
       "6     Saturday\n",
       "7       Sunday\n",
       "8       Monday\n",
       "dtype: object"
      ]
     },
     "execution_count": 18,
     "metadata": {},
     "output_type": "execute_result"
    }
   ],
   "source": [
    "n = pd.Series(pd.date_range(start = '2017-1-1', end = '2018-1-1',  freq = 'b'))\n",
    "type(n)\n",
    "\n",
    "r = pd.Series(pd.bdate_range('2017', periods=9, freq='D'))\n",
    "print(r)\n",
    "\n",
    "r.dt.day_name()\n",
    "\n"
   ]
  },
  {
   "cell_type": "code",
   "execution_count": 70,
   "metadata": {},
   "outputs": [
    {
     "name": "stdout",
     "output_type": "stream",
     "text": [
      "  Month_name CASH/TPA      Total\n",
      "0      April     CASH  2184074.0\n",
      "1     August     CASH  1780238.0\n",
      "2   December     CASH  1176889.0\n",
      "  Month_name CASH/TPA      Total\n",
      "0         04     CASH  2184074.0\n",
      "1         08     CASH  1780238.0\n",
      "2         12     CASH  1176889.0\n",
      "08\n"
     ]
    },
    {
     "data": {
      "text/plain": [
       "(0, 0, 0, 0)"
      ]
     },
     "execution_count": 70,
     "metadata": {},
     "output_type": "execute_result"
    }
   ],
   "source": [
    "temp=u\"\"\"\n",
    "Month_name       CASH/TPA   Total\n",
    "April            CASH       2184074.0\n",
    "August           CASH       1780238.0\n",
    "December         CASH       1176889.0\n",
    "\"\"\"\n",
    "df =pd.read_csv(io.StringIO(temp), sep=r'\\s{2,}', engine='python', encoding = \"iso-8859-1\")\n",
    "import pandas as pd\n",
    "print(df)\n",
    "\n",
    "\n",
    "df['Month_name']=pd.to_datetime(df['Month_name'], format='%B', errors='coerce').dt.month.map(\"{:02d}\".format)\n",
    "# df.Month_name = pd.to_datetime(df.Month_name , format='%B',errors='coerce' ).dt.strftime('%m')\n",
    "print(df)\n",
    "\n",
    "r=df.at[1, 'Month_name']\n",
    "print(r)\n",
    "\n",
    "ts = pd.to_datetime(r, format='%m')\n",
    "ts.year, ts.month, ts.day\n",
    "ts.hour, ts.minute, ts.second, ts.microsecond\n",
    "\n",
    "\n"
   ]
  },
  {
   "cell_type": "code",
   "execution_count": 614,
   "metadata": {},
   "outputs": [
    {
     "name": "stdout",
     "output_type": "stream",
     "text": [
      "0     Washington, D.C. 20003\n",
      "1    Brooklyn, NY 11211-1755\n",
      "2            Omaha, NE 68154\n",
      "3       Pittsburgh, PA 15211\n",
      "dtype: object\n",
      "         city state         zip\n",
      "0  Washington    DC       20003\n",
      "1    Brooklyn    NY  11211-1755\n",
      "2       Omaha    NE       68154\n",
      "3  Pittsburgh    PA       15211 <class 'pandas.core.frame.DataFrame'>\n"
     ]
    }
   ],
   "source": [
    "#series to df\n",
    "\n",
    "addr = pd.Series([\n",
    "     'Washington, D.C. 20003',\n",
    "     'Brooklyn, NY 11211-1755',\n",
    "     'Omaha, NE 68154',\n",
    "     'Pittsburgh, PA 15211'\n",
    "])\n",
    "\n",
    "A\n",
    "print(addr)\n",
    "r = addr.str.replace('.', '')\n",
    "r\n",
    "\n",
    "regex = (r'(?P<city>[A-Za-z ]+), '      # One or more letters\n",
    "          r'(?P<state>[A-Z]{2}) '        # 2 capital letters\n",
    "          r'(?P<zip>\\d{5}(?:-\\d{4})?)')  # Optional 4-digit extension\n",
    "\n",
    "\n",
    "e=r.str.extract(regex)\n",
    "print(e,type(e))\n",
    "\n"
   ]
  },
  {
   "cell_type": "code",
   "execution_count": 608,
   "metadata": {},
   "outputs": [
    {
     "data": {
      "text/plain": [
       "0     WASHINGTON, D.C. 20003\n",
       "1    BROOKLYN, NY 11211-1755\n",
       "2            OMAHA, NE 68154\n",
       "3       PITTSBURGH, PA 15211\n",
       "dtype: object"
      ]
     },
     "execution_count": 608,
     "metadata": {},
     "output_type": "execute_result"
    }
   ],
   "source": [
    "addr.str.upper()"
   ]
  },
  {
   "cell_type": "code",
   "execution_count": 318,
   "metadata": {},
   "outputs": [
    {
     "name": "stdout",
     "output_type": "stream",
     "text": [
      "   Item                   Description\n",
      "0     1  abc Customer Information abc\n",
      "1     1  aaa Customer Information abc\n",
      "2     1  bbb Customer Information abc\n",
      "3     1  ccc Customer Information abc\n",
      "   Item Description\n",
      "0     1        abc \n",
      "1     1        aaa \n",
      "2     1        bbb \n",
      "3     1        ccc \n"
     ]
    }
   ],
   "source": [
    "temp=u\"\"\"\n",
    "Item   Description  \n",
    "1   abc Customer Information abc\n",
    "1   aaa Customer Information abc\n",
    "1   bbb Customer Information abc\n",
    "1   ccc Customer Information abc\"\"\"\n",
    "df =pd.read_csv(io.StringIO(temp), sep=r'\\s{2,}', engine='python', encoding = \"iso-8859-1\")\n",
    "import pandas as pd\n",
    "print(df)\n",
    "\n",
    "\n",
    "df.Description=df.Description.str.split('Customer Information').str.get(0)\n",
    "#df.Description.str.split('Customer Information').str[0] would work also\n",
    "print(df)\n",
    "\n",
    "\n",
    "\n"
   ]
  },
  {
   "cell_type": "code",
   "execution_count": 207,
   "metadata": {},
   "outputs": [
    {
     "name": "stdout",
     "output_type": "stream",
     "text": [
      "    col1  col2\n",
      "0      1    10\n",
      "1      2    15\n",
      "2      4    12\n",
      "3      5    23\n",
      "4      6    11\n",
      "5      8    32\n",
      "6      9    12\n",
      "7     11    32\n",
      "8      2    23\n",
      "9      3    21\n",
      "10     4    12\n",
      "11     6    15\n",
      "12     9    12\n",
      "13    10    32\n"
     ]
    }
   ],
   "source": [
    "temp=u\"\"\"\n",
    "col1      col2      \n",
    " 1         10\n",
    " 2         15\n",
    " 4         12\n",
    " 5         23\n",
    " 6         11\n",
    " 8         32\n",
    " 9         12\n",
    " 11        32\n",
    " 2         23\n",
    " 3         21\n",
    " 4         12\n",
    " 6         15\n",
    " 9         12\n",
    " 10        32\"\"\"\n",
    "df =pd.read_csv(io.StringIO(temp), sep=r'\\s{1,}', engine='python', encoding = \"iso-8859-1\")\n",
    "import pandas as pd\n",
    "print(df)\n"
   ]
  },
  {
   "cell_type": "code",
   "execution_count": 172,
   "metadata": {},
   "outputs": [
    {
     "name": "stdout",
     "output_type": "stream",
     "text": [
      "   id\n",
      "0   1\n",
      "1   2\n",
      "2   3\n",
      "3   4\n",
      "4   5\n"
     ]
    }
   ],
   "source": [
    "temp=u\"\"\"\n",
    "id\n",
    "1 \n",
    "2 \n",
    "3\n",
    "4\n",
    "5\"\"\"\n",
    "df =pd.read_csv(io.StringIO(temp), sep=r'\\s{1,}', engine='python', encoding = \"iso-8859-1\")\n",
    "print(df)"
   ]
  },
  {
   "cell_type": "code",
   "execution_count": null,
   "metadata": {},
   "outputs": [],
   "source": []
  },
  {
   "cell_type": "code",
   "execution_count": 399,
   "metadata": {},
   "outputs": [
    {
     "name": "stdout",
     "output_type": "stream",
     "text": [
      "                  time                                          camera_id\n",
      "0  2019-05-06 12:00:00                                            [cam02]\n",
      "1  2019-05-06 13:00:00                                                 []\n",
      "2  2019-05-06 14:00:00  [cam01, cam01, cam01, cam02, cam02, cam02, cam...\n",
      "3  2019-05-06 15:00:00  [cam02, cam02, cam02, cam02, cam02, cam02, cam...\n"
     ]
    }
   ],
   "source": [
    "#✓\n",
    "import pandas as pd\n",
    "import io\n",
    "\n",
    "temp=u\"\"\"\n",
    "time            camera_id\n",
    "2019-05-06 12:00:00   [cam02]\n",
    "2019-05-06 13:00:00   []\n",
    "2019-05-06 14:00:00   [cam01, cam01, cam01, cam02, cam02, cam02, cam...\n",
    "2019-05-06 15:00:00   [cam02, cam02, cam02, cam02, cam02, cam02, cam...\n",
    "\n",
    "\"\"\"\n",
    "\n",
    "df =pd.read_csv(io.StringIO(temp), sep=r'\\s{2,}', engine='python', encoding = \"iso-8859-1\")\n",
    "\n",
    "print(df)\n",
    "\n",
    "\n",
    "                         \n",
    "                         "
   ]
  },
  {
   "cell_type": "code",
   "execution_count": 402,
   "metadata": {},
   "outputs": [
    {
     "name": "stdout",
     "output_type": "stream",
     "text": [
      "   a  b\n",
      "0  2  2\n",
      "1  3  3\n",
      "2  4  4\n",
      "3  5  5\n"
     ]
    },
    {
     "data": {
      "text/plain": [
       "0    3\n",
       "1    4\n",
       "2    5\n",
       "3    6\n",
       "Name: a, dtype: int64"
      ]
     },
     "execution_count": 402,
     "metadata": {},
     "output_type": "execute_result"
    }
   ],
   "source": [
    "#✓\n",
    "import pandas as pd\n",
    "import io\n",
    "\n",
    "temp=u\"\"\"\n",
    "a  b\n",
    "0  2  2\n",
    "1  3  3\n",
    "2  4  4\n",
    "3  5  5\n",
    "\"\"\"\n",
    "df =pd.read_csv(io.StringIO(temp), sep=r'\\s{1,}', engine='python', encoding = \"iso-8859-1\")\n",
    "import pandas as pd\n",
    "print(df)\n",
    "\n",
    "df['a'] = df['a'].map(lambda x: x + 1)\n",
    "df['a']\n",
    "   "
   ]
  },
  {
   "cell_type": "code",
   "execution_count": 476,
   "metadata": {},
   "outputs": [
    {
     "name": "stdout",
     "output_type": "stream",
     "text": [
      "    A   B\n",
      "0  10  20\n",
      "1  20  30\n",
      "2  30  10\n",
      "    A   B  NEW*\n",
      "0  10  20   200\n",
      "1  20  30   600\n",
      "2  30  10   300\n"
     ]
    }
   ],
   "source": [
    "import pandas as pd\n",
    "df = pd.DataFrame({\"A\": [10,20,30], \"B\": [20, 30, 10]})\n",
    "\n",
    "def f(x,y):\n",
    "    return x*y\n",
    "\n",
    "print(df)\n",
    "\n",
    "\n",
    "df['NEW*'] = df.apply(lambda x: f(x['A'], x['B']), axis=1)\n",
    "print(df)"
   ]
  },
  {
   "cell_type": "code",
   "execution_count": 441,
   "metadata": {},
   "outputs": [
    {
     "name": "stdout",
     "output_type": "stream",
     "text": [
      "['a', 'a', 'a', 'b', 'b', 'b', 'a', 'b', 'a', 'b', 'b', 'c', 'c', 'a', 'b', 'a', 'b', 'a', 'c', 'c']\n"
     ]
    },
    {
     "data": {
      "text/plain": [
       "0     0\n",
       "1     1\n",
       "2     2\n",
       "3     0\n",
       "4     1\n",
       "5     2\n",
       "6     3\n",
       "7     3\n",
       "8     4\n",
       "9     4\n",
       "10    5\n",
       "11    0\n",
       "12    1\n",
       "13    5\n",
       "14    6\n",
       "15    6\n",
       "16    7\n",
       "17    7\n",
       "18    2\n",
       "19    3\n",
       "dtype: int64"
      ]
     },
     "execution_count": 441,
     "metadata": {},
     "output_type": "execute_result"
    }
   ],
   "source": [
    "l=list('aaabbbababbccababacc')\n",
    "print(l)\n",
    "\n",
    "df = pd.DataFrame([[x] for x in list('aaabbbababbccababacc')],  columns=['A'])\n",
    "df.groupby('A').cumcount()\n",
    "# df.groupby('A').cumsum()"
   ]
  },
  {
   "cell_type": "code",
   "execution_count": null,
   "metadata": {},
   "outputs": [],
   "source": []
  },
  {
   "cell_type": "code",
   "execution_count": 545,
   "metadata": {},
   "outputs": [
    {
     "name": "stdout",
     "output_type": "stream",
     "text": [
      "         date    age\n",
      "0  2018-04-15  12-20\n",
      "1  2018-04-15   2-30\n",
      "2  2018-04-18  5-46+\n",
      "         date    age age_from age_to\n",
      "0  2018-04-15  12-20       12     20\n",
      "1  2018-04-15   2-30        2     30\n",
      "2  2018-04-18  5-46+        5    46+\n"
     ]
    }
   ],
   "source": [
    "import pandas as pd\n",
    "import io\n",
    "\n",
    "temp=u\"\"\"date  age\n",
    "2018-04-15  12-20\n",
    "2018-04-15  2-30\n",
    "2018-04-18  5-46+\n",
    "\"\"\"\n",
    "\n",
    "df=pd.read_csv(io.StringIO(temp), sep=r'\\s{2,}', engine=\"python\")\n",
    "print(df)\n",
    "a=df[\"age\"].str.split(\"-\", n=2, expand=True) #df\n",
    "df['age_from']=a[0]\n",
    "df['age_to']=a[1]\n",
    "\n",
    "print(df)\n",
    "\n"
   ]
  },
  {
   "cell_type": "code",
   "execution_count": 265,
   "metadata": {
    "scrolled": true
   },
   "outputs": [
    {
     "name": "stdout",
     "output_type": "stream",
     "text": [
      "0    a\n",
      "1    b\n",
      "2    c\n",
      "3    a\n",
      "4    b\n",
      "dtype: object\n",
      "   a  b  c\n",
      "0  1  0  0\n",
      "1  0  1  0\n",
      "2  0  0  1\n",
      "3  1  0  0\n",
      "4  0  1  0\n"
     ]
    }
   ],
   "source": [
    "\n",
    "s = pd.Series(list('abcab'))\n",
    "\n",
    "print(s)\n",
    "\n",
    "df=pd.get_dummies(s)\n",
    "print(df)"
   ]
  },
  {
   "cell_type": "code",
   "execution_count": 547,
   "metadata": {},
   "outputs": [
    {
     "name": "stdout",
     "output_type": "stream",
     "text": [
      "   Item            Colors\n",
      "0  ID-1  Red, Blue, Green\n",
      "1  ID-2         Red, Blue\n",
      "2  ID-3       Blue, Green\n",
      "3  ID-4              Blue\n",
      "4  ID-5               Red\n"
     ]
    },
    {
     "data": {
      "text/html": [
       "<div>\n",
       "<style scoped>\n",
       "    .dataframe tbody tr th:only-of-type {\n",
       "        vertical-align: middle;\n",
       "    }\n",
       "\n",
       "    .dataframe tbody tr th {\n",
       "        vertical-align: top;\n",
       "    }\n",
       "\n",
       "    .dataframe thead th {\n",
       "        text-align: right;\n",
       "    }\n",
       "</style>\n",
       "<table border=\"1\" class=\"dataframe\">\n",
       "  <thead>\n",
       "    <tr style=\"text-align: right;\">\n",
       "      <th></th>\n",
       "      <th>Item</th>\n",
       "      <th>Colors</th>\n",
       "      <th>Blue</th>\n",
       "      <th>Green</th>\n",
       "      <th>Red</th>\n",
       "    </tr>\n",
       "  </thead>\n",
       "  <tbody>\n",
       "    <tr>\n",
       "      <th>0</th>\n",
       "      <td>ID-1</td>\n",
       "      <td>Red, Blue, Green</td>\n",
       "      <td>1</td>\n",
       "      <td>1</td>\n",
       "      <td>1</td>\n",
       "    </tr>\n",
       "    <tr>\n",
       "      <th>1</th>\n",
       "      <td>ID-2</td>\n",
       "      <td>Red, Blue</td>\n",
       "      <td>1</td>\n",
       "      <td>0</td>\n",
       "      <td>1</td>\n",
       "    </tr>\n",
       "    <tr>\n",
       "      <th>2</th>\n",
       "      <td>ID-3</td>\n",
       "      <td>Blue, Green</td>\n",
       "      <td>1</td>\n",
       "      <td>1</td>\n",
       "      <td>0</td>\n",
       "    </tr>\n",
       "    <tr>\n",
       "      <th>3</th>\n",
       "      <td>ID-4</td>\n",
       "      <td>Blue</td>\n",
       "      <td>1</td>\n",
       "      <td>0</td>\n",
       "      <td>0</td>\n",
       "    </tr>\n",
       "    <tr>\n",
       "      <th>4</th>\n",
       "      <td>ID-5</td>\n",
       "      <td>Red</td>\n",
       "      <td>0</td>\n",
       "      <td>0</td>\n",
       "      <td>1</td>\n",
       "    </tr>\n",
       "  </tbody>\n",
       "</table>\n",
       "</div>"
      ],
      "text/plain": [
       "   Item            Colors  Blue  Green  Red\n",
       "0  ID-1  Red, Blue, Green     1      1    1\n",
       "1  ID-2         Red, Blue     1      0    1\n",
       "2  ID-3       Blue, Green     1      1    0\n",
       "3  ID-4              Blue     1      0    0\n",
       "4  ID-5               Red     0      0    1"
      ]
     },
     "execution_count": 547,
     "metadata": {},
     "output_type": "execute_result"
    }
   ],
   "source": [
    "import pandas as pd\n",
    "import io\n",
    "\n",
    "temp=u\"\"\"\n",
    "    Item                                          Colors\n",
    "0   ID-1                                          Red, Blue, Green\n",
    "1   ID-2                                          Red, Blue\n",
    "2   ID-3                                          Blue, Green\n",
    "3   ID-4                                          Blue\n",
    "4   ID-5                                          Red\"\"\"\n",
    "\n",
    "df =pd.read_csv(io.StringIO(temp), sep=r'\\s{2,}', engine='python', encoding = \"iso-8859-1\")\n",
    "import pandas as pd\n",
    "print(df)\n",
    "\n",
    "\n",
    "new= pd.concat([df,df.Colors.str.get_dummies(sep=', ')],axis=1)\n",
    "new\n"
   ]
  },
  {
   "cell_type": "code",
   "execution_count": 552,
   "metadata": {},
   "outputs": [
    {
     "name": "stdout",
     "output_type": "stream",
     "text": [
      "     A     B  C\n",
      "0  NaN  10.0  1\n",
      "1  1.0   NaN  1\n",
      "2  2.0   NaN  2\n",
      "3  NaN   5.0  2\n",
      "4  2.0   NaN  3\n",
      "5  NaN   NaN  3\n",
      "6  NaN   7.0  3\n",
      "     A     B  C\n",
      "0  NaN  10.0  1\n",
      "1  1.0  10.0  1\n",
      "2  2.0  10.0  2\n",
      "3  2.0   5.0  2\n",
      "4  2.0   5.0  3\n",
      "5  2.0   5.0  3\n",
      "6  2.0   7.0  3\n"
     ]
    }
   ],
   "source": [
    "# fillna\n",
    "import pandas as pd\n",
    "import numpy as np\n",
    "\n",
    "df = pd.DataFrame({'A': [np.nan, 1, 2,np.nan,2,np.nan,np.nan], \n",
    "               'B': [10, np.nan, np.nan,5,np.nan,np.nan,7], \n",
    "               'C': [1,1,2,2,3,3,3]})\n",
    "print(df)\n",
    "l=df.C\n",
    "df=df.fillna( method='ffill')\n",
    "print(df)"
   ]
  },
  {
   "cell_type": "code",
   "execution_count": null,
   "metadata": {},
   "outputs": [],
   "source": []
  },
  {
   "cell_type": "code",
   "execution_count": null,
   "metadata": {},
   "outputs": [],
   "source": []
  },
  {
   "cell_type": "code",
   "execution_count": 66,
   "metadata": {},
   "outputs": [
    {
     "name": "stdout",
     "output_type": "stream",
     "text": [
      "   Name                Time          App\n",
      "0  Mike 2019-05-10 21:10:00   chrome.exe\n",
      "1  Mike 2019-05-10 21:10:00   chrome.exe\n",
      "2  Mike 2019-05-10 21:12:00   chrome.exe\n",
      "3  John 2019-05-10 18:09:00   chrome.exe\n",
      "4  John 2019-05-10 18:25:00  chrome.exe7\n",
      "0    False\n",
      "1     True\n",
      "2     True\n",
      "3    False\n",
      "4    False\n",
      "Name: Time, dtype: bool\n",
      "   Name                Time          App\n",
      "0  Mike 2019-05-10 21:10:00   chrome.exe\n",
      "3  John 2019-05-10 18:09:00   chrome.exe\n",
      "4  John 2019-05-10 18:25:00  chrome.exe7\n"
     ]
    }
   ],
   "source": [
    "import pandas as pd\n",
    "import io\n",
    "\n",
    "temp=u\"\"\"\n",
    "Name  Time              App \n",
    "Mike  2019-05-10 21:10  chrome.exe\n",
    "Mike  2019-05-10 21:10  chrome.exe\n",
    "Mike  2019-05-10 21:12  chrome.exe\n",
    "John  2019-05-10 18:09  chrome.exe\n",
    "John  2019-05-10 18:25  chrome.exe7\"\"\"\n",
    "\n",
    "\n",
    "# print(df.info())\n",
    "df =pd.read_csv(io.StringIO(temp), sep=r'\\s{2,}', engine='python', encoding = \"iso-8859-1\")\n",
    "import pandas as pd\n",
    "\n",
    "df['Time'] = pd.to_datetime(df['Time'])\n",
    "print(df)\n",
    "m = df.groupby(['Name','App']).Time.apply(lambda x: x.diff().dt.seconds < 5*60) #mask for 5 minutes\n",
    "\n",
    "print(m)\n",
    "\n",
    "df2=df[~m]\n",
    "print(df2)\n",
    "\n",
    "\n",
    "# m2 = df.B.duplicated(keep=False) & (m | m.shift(-1))"
   ]
  },
  {
   "cell_type": "code",
   "execution_count": 192,
   "metadata": {},
   "outputs": [
    {
     "name": "stdout",
     "output_type": "stream",
     "text": [
      "                                                  steps\n",
      "<DIV><P>Another step</P></DIV><DIV><P>A  step</P></DIV>\n",
      "                step</P></DIV><DIV><P>A  step</P></DIV>\n",
      "                                                  steps  Total_Steps\n",
      "<DIV><P>Another step</P></DIV><DIV><P>A  step</P></DIV>            2\n",
      "                step</P></DIV><DIV><P>A  step</P></DIV>            2\n"
     ]
    }
   ],
   "source": [
    "import pandas as pd\n",
    "import io\n",
    "\n",
    "temp=u\"\"\"\n",
    "steps\n",
    "<DIV><P>Another step</P></DIV><DIV><P>A step</P></DIV>\n",
    "<DIV><P>Another step</P></DIV><DIV><P>A step</P></DIV>\"\"\"\n",
    "\n",
    "\n",
    "\n",
    "df =pd.read_csv(io.StringIO(temp), sep=r'\\s{1,}', engine='python', encoding = \"iso-8859-1\")\n",
    "import pandas as pd\n",
    "print(df)\n",
    "\n",
    "df['Total_Steps']=df['steps'].str.contains('\\<Div\\>\\<P\\>').count()\n",
    "print(df)\n"
   ]
  },
  {
   "cell_type": "code",
   "execution_count": null,
   "metadata": {},
   "outputs": [],
   "source": []
  },
  {
   "cell_type": "code",
   "execution_count": null,
   "metadata": {},
   "outputs": [],
   "source": []
  },
  {
   "cell_type": "code",
   "execution_count": null,
   "metadata": {},
   "outputs": [],
   "source": []
  },
  {
   "cell_type": "code",
   "execution_count": 616,
   "metadata": {},
   "outputs": [
    {
     "name": "stdout",
     "output_type": "stream",
     "text": [
      "   A         B         C\n",
      "0  1  0.154156  0.055498\n",
      "1  1  0.258321  0.510772\n",
      "2  1  0.917265  0.858764\n",
      "3  2  0.367647  0.081279\n",
      "4  2  0.856975  0.602369\n",
      "5  2  0.058046  0.571144\n",
      "6  3  0.936689  0.501519\n",
      "7  3  0.397865  0.974847\n",
      "8  3  0.081413  0.153654\n",
      "          B                   C\n",
      "       mean       std    median\n",
      "A                              \n",
      "1  0.443248  0.413802  0.510772\n",
      "2  0.427556  0.402820  0.571144\n",
      "3  0.471989  0.432429  0.501519\n",
      "     B_mean     B_std  C_median\n",
      "A                              \n",
      "1  0.443248  0.413802  0.510772\n",
      "2  0.427556  0.402820  0.571144\n",
      "3  0.471989  0.432429  0.501519\n",
      "[[0.4432476179419716, 0.4138021244524449, 0.5107719158654308], [0.4275558959848292, 0.40281993412112316, 0.5711436947989978], [0.471989108155088, 0.4324291767369348, 0.501519363780406]]\n"
     ]
    }
   ],
   "source": [
    "df = pd.DataFrame(\n",
    "    {'A': [1,1,1,2,2,2,3,3,3],\n",
    "     'B': np.random.random(9),\n",
    "     'C': np.random.random(9)}\n",
    ")\n",
    "\n",
    "print(df)\n",
    "out = df.groupby('A').agg({'B': [np.mean, np.std], 'C': np.median})\n",
    "print(out)\n",
    "\n",
    "out.columns = out.columns.map('_'.join)\n",
    "\n",
    "\n",
    "print(out)\n",
    "\n"
   ]
  },
  {
   "cell_type": "code",
   "execution_count": 404,
   "metadata": {},
   "outputs": [
    {
     "name": "stdout",
     "output_type": "stream",
     "text": [
      "    A   B   C\n",
      "4   0   2   3\n",
      "5   0   4   1\n",
      "6  10  20  30\n",
      "  variable  value\n",
      "0        A      0\n",
      "1        A      0\n",
      "2        A     10\n",
      "3        B      2\n",
      "4        B      4\n",
      "5        B     20\n",
      "6        C      3\n",
      "7        C      1\n",
      "8        C     30\n"
     ]
    }
   ],
   "source": [
    "df = pd.DataFrame([[0, 2, 3], [0, 4, 1], [10, 20, 30]],                   \n",
    "                  index=[4, 5, 6], columns=['A', 'B', 'C'])\n",
    "\n",
    "print(df)\n",
    "m=pd.melt(df)\n",
    "print(m)\n",
    "\n"
   ]
  },
  {
   "cell_type": "code",
   "execution_count": 816,
   "metadata": {},
   "outputs": [
    {
     "name": "stdout",
     "output_type": "stream",
     "text": [
      "  key  data1  data2\n",
      "0   A      0      5\n",
      "1   B      1      0\n",
      "2   C      2      3\n",
      "3   A      3      3\n",
      "4   B      4      7\n",
      "5   C      5      9\n",
      "   data1  data2\n",
      "A    1.5    4.0\n",
      "b    2.5    3.5\n",
      "c    3.5    6.0\n"
     ]
    }
   ],
   "source": [
    "rng = np.random.RandomState(0)\n",
    "df = pd.DataFrame({'key': ['A', 'B', 'C', 'A', 'B', 'C'],\n",
    "                   'data1': range(6),\n",
    "                   'data2': rng.randint(0, 10, 6)},\n",
    "                   columns = ['key', 'data1', 'data2'])\n",
    "print(df)\n",
    "\n",
    "df.groupby('key').aggregate(['min', np.median, max])\n",
    "\n",
    "df.groupby('key').aggregate({'data1': ['min','max'],\n",
    "                             'data2': 'max'})\n",
    "\n",
    "def f(x):\n",
    "    return True#x[c1].std() > 4\n",
    "\n",
    "# apply filter\n",
    "# df2=df.groupby('key').filter(filter_func, 'data2')\n",
    "df2=df.groupby('key').filter(lambda x: True)\n",
    "df2=df.groupby('key').filter(f)\n",
    "# print(df2)\n",
    "\n",
    "def fn(x):\n",
    "    # x is a DataFrame of group values\n",
    "    x['data1'] /= x['data2'].sum()\n",
    "    return x['data1']\n",
    "\n",
    "df3=df.groupby('key').apply(fn)\n",
    "# print(df3)\n",
    "\n",
    "\n",
    "L = [0, 1, 0, 1, 2, 0]\n",
    "df4 = df.groupby(L).sum()\n",
    "# print(df4)\n",
    "\n",
    "df5 = df.set_index('key')\n",
    "mapping = {'A':'kuca', 'B':'juca', 'C':'juca'}\n",
    "df5 = df5.groupby(mapping).sum()\n",
    "# print(df5)\n",
    "\n",
    "def fu(r):\n",
    "    if(r=='A'):\n",
    "        return 'A'\n",
    "    else:\n",
    "         return str.lower(r)\n",
    "\n",
    "df6 = df.set_index('key').groupby(fu).mean()\n",
    "print(df6)\n",
    "\n"
   ]
  },
  {
   "cell_type": "code",
   "execution_count": 405,
   "metadata": {},
   "outputs": [
    {
     "name": "stdout",
     "output_type": "stream",
     "text": [
      "   user_id       date  no\n",
      "0        1 2018-02-01  15\n",
      "0        1 2018-03-01  15\n",
      "0        1 2018-01-01  15\n",
      "1        1 2018-02-01  20\n",
      "1        1 2018-03-01  20\n",
      "1        1 2018-04-01  20\n",
      "2        1 2018-05-01  35\n",
      "2        1 2018-03-01  35\n",
      "2        1 2018-04-01  35\n",
      "3        2 2018-05-01  50\n",
      "3        2 2018-04-01  50\n",
      "3        2 2018-06-01  50\n",
      "3        2 2018-07-01  50\n",
      "4        2 2018-05-01  18\n",
      "4        2 2018-06-01  18\n",
      "4        2 2018-07-01  18\n"
     ]
    }
   ],
   "source": [
    "# df.Date2.dt.to_period('M') - df.Date1.dt.to_period('M')\n",
    "import pandas as pd\n",
    "import io\n",
    "\n",
    "def unnesting(df, explode):\n",
    "    idx = df.index.repeat(df[explode[0]].str.len())\n",
    "    df1 = pd.concat([\n",
    "        pd.DataFrame({x: np.concatenate(df[x].values)}) for x in explode], axis=1)\n",
    "    df1.index = idx\n",
    "    return df1.join(df.drop(explode, 1), how='left')\n",
    "\n",
    "temp=u\"\"\"\n",
    "user_id   end_date  start_date    no\n",
    "1         2018-03-01  2018-01-01    15\n",
    "1         2018-04-01  2018-02-01    20\n",
    "1         2018-05-01  2018-03-01    35\n",
    "2         2018-07-01  2018-04-01    50\n",
    "2         2018-07-01  2018-05-01    18\n",
    "\"\"\"\n",
    "df =pd.read_csv(io.StringIO(temp), sep=r'\\s{2,}', engine='python', encoding = \"iso-8859-1\")\n",
    "#print(df)\n",
    "\n",
    "# df['date']=df['start_date']+','+df['end_date']\n",
    "\n",
    "\n",
    "\n",
    "\n",
    "def f(r):\n",
    "    ret=pd.date_range(r.start_date, r.end_date, freq='MS', closed=None)\n",
    "    l=list(set(ret))\n",
    "    return l\n",
    "\n",
    "df['date'] = df.apply(f, axis=1)\n",
    "\n",
    "\n",
    "\n",
    "\n",
    "df.drop(['start_date', 'end_date'], inplace=True, axis=1)\n",
    "df=unnesting(df,['date'])\n",
    "df = df[['user_id', 'date', 'no']]\n",
    "print(df)\n",
    "\n",
    "\n",
    "\n"
   ]
  }
 ],
 "metadata": {
  "kernelspec": {
   "display_name": "Python 3",
   "language": "python",
   "name": "python3"
  },
  "language_info": {
   "codemirror_mode": {
    "name": "ipython",
    "version": 3
   },
   "file_extension": ".py",
   "mimetype": "text/x-python",
   "name": "python",
   "nbconvert_exporter": "python",
   "pygments_lexer": "ipython3",
   "version": "3.7.2"
  }
 },
 "nbformat": 4,
 "nbformat_minor": 2
}
